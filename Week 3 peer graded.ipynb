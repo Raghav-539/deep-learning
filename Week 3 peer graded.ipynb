{
 "cells": [
  {
   "cell_type": "markdown",
   "id": "3b66f1d8",
   "metadata": {},
   "source": [
    "Week 3 deep learning"
   ]
  },
  {
   "cell_type": "markdown",
   "id": "62c1ba84",
   "metadata": {},
   "source": [
    "### Problem/Data Description:\n",
    "\n",
    "Provide a clear and concise description of the problem you are addressing.\n",
    "Explain the dataset you are working with, including its source, size, and format.\n",
    "Define the goals and objectives of your analysis or modeling.\n",
    "EDA Procedure (Exploratory Data Analysis):\n"
   ]
  },
  {
   "cell_type": "markdown",
   "id": "e8a48960",
   "metadata": {},
   "source": [
    "### Import necessary libraries and load the dataset.\n",
    "\n",
    "Summarize the dataset with basic statistics and data profiling techniques.\n",
    "Visualize the data using plots and graphs to gain insights.\n",
    "Explore data distributions, relationships, and potential outliers.\n",
    "Handle missing data and perform data preprocessing (e.g., data cleaning, feature engineering).\n",
    "Analysis (Model Building and Training):"
   ]
  },
  {
   "cell_type": "markdown",
   "id": "1deb1595",
   "metadata": {},
   "source": [
    "### Define the problem type (e.g., classification, regression) and evaluation metrics.\n",
    "Split the dataset into training, validation, and test sets.\n",
    "Select appropriate machine learning algorithms or models for your problem.\n",
    "Train the models on the training data.\n",
    "Perform hyperparameter tuning, if applicable.\n",
    "Evaluate model performance on the validation set using chosen metrics.\n",
    "Address overfitting or underfitting issues, if necessary.\n",
    "Results:\n",
    "\n",
    "### Present the results of your analysis and model training.\n",
    "Display relevant metrics (e.g., accuracy, F1 score, RMSE) and compare models.\n",
    "Use visualizations such as confusion matrices, ROC curves, or prediction plots to illustrate model performance.\n",
    "Discuss any noteworthy findings or patterns in the data.\n",
    "Discussion/Conclusion:\n",
    "\n",
    "### Summarize the key findings and results of your analysis.\n",
    "Discuss the implications of your findings and how they relate to the problem statement.\n",
    "Address any limitations or challenges encountered during the analysis.\n",
    "Offer suggestions for further research or improvements.\n",
    "Conclude with a concise summary of the overall project and its significance."
   ]
  },
  {
   "cell_type": "code",
   "execution_count": null,
   "id": "8ed79bdd",
   "metadata": {},
   "outputs": [],
   "source": [
    "import tensorflow as tf\n",
    "import numpy as np\n",
    "import tensorflow.keras.layers as tfl\n",
    "import matplotlib.pyplot as plt\n",
    "import pandas as pd\n",
    "from tensorflow.keras.models import Model\n",
    "from tensorflow.keras.initializers import random_uniform, glorot_uniform\n",
    "\n",
    "import os\n",
    "import shutil\n",
    "import json\n",
    "\n",
    "from PIL import Image"
   ]
  },
  {
   "cell_type": "code",
   "execution_count": null,
   "id": "588b4df3",
   "metadata": {},
   "outputs": [],
   "source": [
    "def train_img_path(id_str):\n",
    "    return os.path.join(r\"/kaggle/input/histopathologic-cancer-detection/train\", f\"{id_str}.tif\")"
   ]
  },
  {
   "cell_type": "code",
   "execution_count": null,
   "id": "1376bc3c",
   "metadata": {},
   "outputs": [],
   "source": [
    "example_path = \"/kaggle/input/histopathologic-cancer-detection/train/f38a6374c348f90b587e046aac6079959adf3835.tif\"\n",
    "example_img = Image.open(example_path)\n",
    "example_array = np.array(example_img)\n",
    "print(f\"Image Shape = {example_array.shape}\")\n",
    "plt.imshow(example_img)\n",
    "plt.show()"
   ]
  },
  {
   "cell_type": "code",
   "execution_count": null,
   "id": "2d8d0dd0",
   "metadata": {},
   "outputs": [],
   "source": [
    "train_labels_df = pd.read_csv('/kaggle/input/histopathologic-cancer-detection/train_labels.csv')\n",
    "train_labels_df[\"filename\"] = train_labels_df[\"id\"].apply(train_img_path)\n",
    "train_labels_df[\"label\"] = train_labels_df[\"label\"].astype(str)\n",
    "train_labels_df.head()"
   ]
  },
  {
   "cell_type": "code",
   "execution_count": null,
   "id": "cff5796b",
   "metadata": {},
   "outputs": [],
   "source": [
    "sample_data = np.empty((100, 96, 96, 3), dtype=np.uint8)\n",
    "sample_labels = np.empty(100, dtype=np.int8)\n",
    "for i in range(len(train_labels_df))[:100]:\n",
    "    img_path = train_img_path(train_labels_df['id'][i])\n",
    "    img = Image.open(img_path)\n",
    "    sample_data[i] = np.array(img)\n",
    "    sample_labels[i] = train_labels_df['label'][i]"
   ]
  },
  {
   "cell_type": "code",
   "execution_count": null,
   "id": "4891abac",
   "metadata": {},
   "outputs": [],
   "source": [
    "print(\"Non-Cancerous Images\")\n",
    "\n",
    "selected_images = np.random.choice(sample_data[sample_labels == 0].shape[0], 12, replace=False)\n",
    "grid_size = int(np.ceil(np.sqrt(12)))\n",
    "\n",
    "fig, axs = plt.subplots(grid_size, grid_size, figsize=(5, 5))\n",
    "\n",
    "for i, ax in enumerate(axs.flatten()):\n",
    "    if i < 12:\n",
    "        ax.imshow(sample_data[sample_labels == 0][selected_images[i]])\n",
    "        ax.axis('off') \n",
    "    else:\n",
    "        fig.delaxes(ax) \n",
    "\n",
    "plt.tight_layout()\n",
    "plt.show()"
   ]
  },
  {
   "cell_type": "code",
   "execution_count": null,
   "id": "e1d4a1e0",
   "metadata": {},
   "outputs": [],
   "source": [
    "print(\"Cancerous Images\")\n",
    "\n",
    "selected_images = np.random.choice(sample_data[sample_labels == 1].shape[0], 12, replace=False)\n",
    "grid_size = int(np.ceil(np.sqrt(12)))\n",
    "\n",
    "fig, axs = plt.subplots(grid_size, grid_size, figsize=(5, 5))\n",
    "\n",
    "for i, ax in enumerate(axs.flatten()):\n",
    "    if i < 12:\n",
    "        ax.imshow(sample_data[sample_labels == 1][selected_images[i]])\n",
    "        ax.axis('off') \n",
    "    else:\n",
    "        fig.delaxes(ax) \n",
    "\n",
    "plt.tight_layout()\n",
    "plt.show()"
   ]
  },
  {
   "cell_type": "code",
   "execution_count": null,
   "id": "103e3849",
   "metadata": {},
   "outputs": [],
   "source": [
    "test_path = \"/kaggle/input/histopathologic-cancer-detection/test\"\n",
    "test_ids = [filename[:-4] for filename in os.listdir(test_path)]\n",
    "test_filenames = [os.path.join(test_path, filename) for filename in os.listdir(test_path)]\n",
    "test_df = pd.DataFrame()\n",
    "test_df[\"id\"] = test_ids\n",
    "test_df[\"filename\"] = test_filenames\n",
    "datagen = tf.keras.preprocessing.image.ImageDataGenerator(rescale = 1/255, validation_split = 0.2)\n",
    "train_generator = datagen.flow_from_dataframe(\n",
    "    shuffle = True,\n",
    "    dataframe = train_labels_df,\n",
    "    x_col = \"filename\",\n",
    "    y_col = \"label\",\n",
    "    target_size = (96, 96),\n",
    "    color_mode = \"rgb\",\n",
    "    batch_size = 32,\n",
    "    class_mode = \"binary\",\n",
    "    subset = \"training\",\n",
    "    validate_filenames = False,\n",
    "    seed = 10\n",
    ")\n",
    "\n",
    "validation_generator = datagen.flow_from_dataframe(\n",
    "    shuffle = True,\n",
    "    dataframe=train_labels_df,\n",
    "    x_col = \"filename\",\n",
    "    y_col = \"label\",\n",
    "    target_size=(96, 96),\n",
    "    color_mode = \"rgb\",\n",
    "    batch_size = 32,\n",
    "    class_mode = \"binary\",\n",
    "    subset = \"validation\",\n",
    "    validate_filenames = False,\n",
    "    seed = 10\n",
    ")"
   ]
  },
  {
   "cell_type": "code",
   "execution_count": null,
   "id": "46d3f0b8",
   "metadata": {},
   "outputs": [],
   "source": [
    "test_generator = datagen.flow_from_dataframe(\n",
    "    dataframe = test_df,\n",
    "    x_col = \"filename\",\n",
    "    y_col = None,\n",
    "    target_size = (96, 96),\n",
    "    color_mode = \"rgb\",\n",
    "    batch_size = 64,\n",
    "    shuffle = False,\n",
    "    class_mode = None,\n",
    "    validate_filenames = False,\n",
    "    seed = 10\n",
    ")"
   ]
  },
  {
   "cell_type": "code",
   "execution_count": null,
   "id": "73a838c9",
   "metadata": {},
   "outputs": [],
   "source": []
  },
  {
   "cell_type": "code",
   "execution_count": null,
   "id": "08770247",
   "metadata": {},
   "outputs": [],
   "source": []
  },
  {
   "cell_type": "code",
   "execution_count": null,
   "id": "41cae655",
   "metadata": {},
   "outputs": [],
   "source": []
  },
  {
   "cell_type": "code",
   "execution_count": null,
   "id": "226ce59a",
   "metadata": {},
   "outputs": [],
   "source": []
  }
 ],
 "metadata": {
  "kernelspec": {
   "display_name": "Python 3 (ipykernel)",
   "language": "python",
   "name": "python3"
  },
  "language_info": {
   "codemirror_mode": {
    "name": "ipython",
    "version": 3
   },
   "file_extension": ".py",
   "mimetype": "text/x-python",
   "name": "python",
   "nbconvert_exporter": "python",
   "pygments_lexer": "ipython3",
   "version": "3.10.9"
  }
 },
 "nbformat": 4,
 "nbformat_minor": 5
}
